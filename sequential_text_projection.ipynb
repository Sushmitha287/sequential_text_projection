{
  "cells": [
    {
      "cell_type": "code",
      "execution_count": 1,
      "metadata": {
        "id": "GHJF-4DdP-Ex"
      },
      "outputs": [],
      "source": [
        "import tensorflow as tf\n",
        "from tensorflow.keras.preprocessing.text import Tokenizer\n",
        "from tensorflow.keras.layers import Embedding, LSTM, Dense\n",
        "from tensorflow.keras.models import Sequential\n",
        "from tensorflow.keras.utils import to_categorical\n",
        "from tensorflow.keras.optimizers import Adam\n",
        "from tensorflow.keras.callbacks import ModelCheckpoint\n",
        "import pickle\n",
        "import numpy as np\n",
        "import os"
      ]
    },
    {
      "cell_type": "markdown",
      "metadata": {
        "id": "PK622UZValnC"
      },
      "source": []
    },
    {
      "cell_type": "code",
      "execution_count": 2,
      "metadata": {
        "colab": {
          "base_uri": "https://localhost:8080/"
        },
        "id": "BimeLnaPQGah",
        "outputId": "28fb00e1-a495-435e-e7c5-5cd3bc3cca5c"
      },
      "outputs": [
        {
          "output_type": "stream",
          "name": "stdout",
          "text": [
            "Requirement already satisfied: tensorflow in /usr/local/lib/python3.10/dist-packages (2.12.0)\n",
            "Requirement already satisfied: absl-py>=1.0.0 in /usr/local/lib/python3.10/dist-packages (from tensorflow) (1.4.0)\n",
            "Requirement already satisfied: astunparse>=1.6.0 in /usr/local/lib/python3.10/dist-packages (from tensorflow) (1.6.3)\n",
            "Requirement already satisfied: flatbuffers>=2.0 in /usr/local/lib/python3.10/dist-packages (from tensorflow) (23.5.26)\n",
            "Requirement already satisfied: gast<=0.4.0,>=0.2.1 in /usr/local/lib/python3.10/dist-packages (from tensorflow) (0.4.0)\n",
            "Requirement already satisfied: google-pasta>=0.1.1 in /usr/local/lib/python3.10/dist-packages (from tensorflow) (0.2.0)\n",
            "Requirement already satisfied: grpcio<2.0,>=1.24.3 in /usr/local/lib/python3.10/dist-packages (from tensorflow) (1.57.0)\n",
            "Requirement already satisfied: h5py>=2.9.0 in /usr/local/lib/python3.10/dist-packages (from tensorflow) (3.9.0)\n",
            "Requirement already satisfied: jax>=0.3.15 in /usr/local/lib/python3.10/dist-packages (from tensorflow) (0.4.14)\n",
            "Requirement already satisfied: keras<2.13,>=2.12.0 in /usr/local/lib/python3.10/dist-packages (from tensorflow) (2.12.0)\n",
            "Requirement already satisfied: libclang>=13.0.0 in /usr/local/lib/python3.10/dist-packages (from tensorflow) (16.0.6)\n",
            "Requirement already satisfied: numpy<1.24,>=1.22 in /usr/local/lib/python3.10/dist-packages (from tensorflow) (1.23.5)\n",
            "Requirement already satisfied: opt-einsum>=2.3.2 in /usr/local/lib/python3.10/dist-packages (from tensorflow) (3.3.0)\n",
            "Requirement already satisfied: packaging in /usr/local/lib/python3.10/dist-packages (from tensorflow) (23.1)\n",
            "Requirement already satisfied: protobuf!=4.21.0,!=4.21.1,!=4.21.2,!=4.21.3,!=4.21.4,!=4.21.5,<5.0.0dev,>=3.20.3 in /usr/local/lib/python3.10/dist-packages (from tensorflow) (3.20.3)\n",
            "Requirement already satisfied: setuptools in /usr/local/lib/python3.10/dist-packages (from tensorflow) (67.7.2)\n",
            "Requirement already satisfied: six>=1.12.0 in /usr/local/lib/python3.10/dist-packages (from tensorflow) (1.16.0)\n",
            "Requirement already satisfied: tensorboard<2.13,>=2.12 in /usr/local/lib/python3.10/dist-packages (from tensorflow) (2.12.3)\n",
            "Requirement already satisfied: tensorflow-estimator<2.13,>=2.12.0 in /usr/local/lib/python3.10/dist-packages (from tensorflow) (2.12.0)\n",
            "Requirement already satisfied: termcolor>=1.1.0 in /usr/local/lib/python3.10/dist-packages (from tensorflow) (2.3.0)\n",
            "Requirement already satisfied: typing-extensions>=3.6.6 in /usr/local/lib/python3.10/dist-packages (from tensorflow) (4.7.1)\n",
            "Requirement already satisfied: wrapt<1.15,>=1.11.0 in /usr/local/lib/python3.10/dist-packages (from tensorflow) (1.14.1)\n",
            "Requirement already satisfied: tensorflow-io-gcs-filesystem>=0.23.1 in /usr/local/lib/python3.10/dist-packages (from tensorflow) (0.33.0)\n",
            "Requirement already satisfied: wheel<1.0,>=0.23.0 in /usr/local/lib/python3.10/dist-packages (from astunparse>=1.6.0->tensorflow) (0.41.1)\n",
            "Requirement already satisfied: ml-dtypes>=0.2.0 in /usr/local/lib/python3.10/dist-packages (from jax>=0.3.15->tensorflow) (0.2.0)\n",
            "Requirement already satisfied: scipy>=1.7 in /usr/local/lib/python3.10/dist-packages (from jax>=0.3.15->tensorflow) (1.10.1)\n",
            "Requirement already satisfied: google-auth<3,>=1.6.3 in /usr/local/lib/python3.10/dist-packages (from tensorboard<2.13,>=2.12->tensorflow) (2.17.3)\n",
            "Requirement already satisfied: google-auth-oauthlib<1.1,>=0.5 in /usr/local/lib/python3.10/dist-packages (from tensorboard<2.13,>=2.12->tensorflow) (1.0.0)\n",
            "Requirement already satisfied: markdown>=2.6.8 in /usr/local/lib/python3.10/dist-packages (from tensorboard<2.13,>=2.12->tensorflow) (3.4.4)\n",
            "Requirement already satisfied: requests<3,>=2.21.0 in /usr/local/lib/python3.10/dist-packages (from tensorboard<2.13,>=2.12->tensorflow) (2.31.0)\n",
            "Requirement already satisfied: tensorboard-data-server<0.8.0,>=0.7.0 in /usr/local/lib/python3.10/dist-packages (from tensorboard<2.13,>=2.12->tensorflow) (0.7.1)\n",
            "Requirement already satisfied: werkzeug>=1.0.1 in /usr/local/lib/python3.10/dist-packages (from tensorboard<2.13,>=2.12->tensorflow) (2.3.7)\n",
            "Requirement already satisfied: cachetools<6.0,>=2.0.0 in /usr/local/lib/python3.10/dist-packages (from google-auth<3,>=1.6.3->tensorboard<2.13,>=2.12->tensorflow) (5.3.1)\n",
            "Requirement already satisfied: pyasn1-modules>=0.2.1 in /usr/local/lib/python3.10/dist-packages (from google-auth<3,>=1.6.3->tensorboard<2.13,>=2.12->tensorflow) (0.3.0)\n",
            "Requirement already satisfied: rsa<5,>=3.1.4 in /usr/local/lib/python3.10/dist-packages (from google-auth<3,>=1.6.3->tensorboard<2.13,>=2.12->tensorflow) (4.9)\n",
            "Requirement already satisfied: requests-oauthlib>=0.7.0 in /usr/local/lib/python3.10/dist-packages (from google-auth-oauthlib<1.1,>=0.5->tensorboard<2.13,>=2.12->tensorflow) (1.3.1)\n",
            "Requirement already satisfied: charset-normalizer<4,>=2 in /usr/local/lib/python3.10/dist-packages (from requests<3,>=2.21.0->tensorboard<2.13,>=2.12->tensorflow) (3.2.0)\n",
            "Requirement already satisfied: idna<4,>=2.5 in /usr/local/lib/python3.10/dist-packages (from requests<3,>=2.21.0->tensorboard<2.13,>=2.12->tensorflow) (3.4)\n",
            "Requirement already satisfied: urllib3<3,>=1.21.1 in /usr/local/lib/python3.10/dist-packages (from requests<3,>=2.21.0->tensorboard<2.13,>=2.12->tensorflow) (2.0.4)\n",
            "Requirement already satisfied: certifi>=2017.4.17 in /usr/local/lib/python3.10/dist-packages (from requests<3,>=2.21.0->tensorboard<2.13,>=2.12->tensorflow) (2023.7.22)\n",
            "Requirement already satisfied: MarkupSafe>=2.1.1 in /usr/local/lib/python3.10/dist-packages (from werkzeug>=1.0.1->tensorboard<2.13,>=2.12->tensorflow) (2.1.3)\n",
            "Requirement already satisfied: pyasn1<0.6.0,>=0.4.6 in /usr/local/lib/python3.10/dist-packages (from pyasn1-modules>=0.2.1->google-auth<3,>=1.6.3->tensorboard<2.13,>=2.12->tensorflow) (0.5.0)\n",
            "Requirement already satisfied: oauthlib>=3.0.0 in /usr/local/lib/python3.10/dist-packages (from requests-oauthlib>=0.7.0->google-auth-oauthlib<1.1,>=0.5->tensorboard<2.13,>=2.12->tensorflow) (3.2.2)\n"
          ]
        }
      ],
      "source": [
        "!pip install tensorflow"
      ]
    },
    {
      "cell_type": "markdown",
      "metadata": {
        "id": "rWl47JD9aoON"
      },
      "source": [
        "from goggle.colab import files\n",
        "uploaded = files.upload()"
      ]
    },
    {
      "cell_type": "code",
      "execution_count": 3,
      "metadata": {
        "colab": {
          "base_uri": "https://localhost:8080/",
          "height": 73
        },
        "id": "TcK_pddHbQJQ",
        "outputId": "693ef836-cc05-4590-f3ea-cf585964d986"
      },
      "outputs": [
        {
          "output_type": "display_data",
          "data": {
            "text/plain": [
              "<IPython.core.display.HTML object>"
            ],
            "text/html": [
              "\n",
              "     <input type=\"file\" id=\"files-63864bea-2ba4-451c-aa5c-609cac57900e\" name=\"files[]\" multiple disabled\n",
              "        style=\"border:none\" />\n",
              "     <output id=\"result-63864bea-2ba4-451c-aa5c-609cac57900e\">\n",
              "      Upload widget is only available when the cell has been executed in the\n",
              "      current browser session. Please rerun this cell to enable.\n",
              "      </output>\n",
              "      <script>// Copyright 2017 Google LLC\n",
              "//\n",
              "// Licensed under the Apache License, Version 2.0 (the \"License\");\n",
              "// you may not use this file except in compliance with the License.\n",
              "// You may obtain a copy of the License at\n",
              "//\n",
              "//      http://www.apache.org/licenses/LICENSE-2.0\n",
              "//\n",
              "// Unless required by applicable law or agreed to in writing, software\n",
              "// distributed under the License is distributed on an \"AS IS\" BASIS,\n",
              "// WITHOUT WARRANTIES OR CONDITIONS OF ANY KIND, either express or implied.\n",
              "// See the License for the specific language governing permissions and\n",
              "// limitations under the License.\n",
              "\n",
              "/**\n",
              " * @fileoverview Helpers for google.colab Python module.\n",
              " */\n",
              "(function(scope) {\n",
              "function span(text, styleAttributes = {}) {\n",
              "  const element = document.createElement('span');\n",
              "  element.textContent = text;\n",
              "  for (const key of Object.keys(styleAttributes)) {\n",
              "    element.style[key] = styleAttributes[key];\n",
              "  }\n",
              "  return element;\n",
              "}\n",
              "\n",
              "// Max number of bytes which will be uploaded at a time.\n",
              "const MAX_PAYLOAD_SIZE = 100 * 1024;\n",
              "\n",
              "function _uploadFiles(inputId, outputId) {\n",
              "  const steps = uploadFilesStep(inputId, outputId);\n",
              "  const outputElement = document.getElementById(outputId);\n",
              "  // Cache steps on the outputElement to make it available for the next call\n",
              "  // to uploadFilesContinue from Python.\n",
              "  outputElement.steps = steps;\n",
              "\n",
              "  return _uploadFilesContinue(outputId);\n",
              "}\n",
              "\n",
              "// This is roughly an async generator (not supported in the browser yet),\n",
              "// where there are multiple asynchronous steps and the Python side is going\n",
              "// to poll for completion of each step.\n",
              "// This uses a Promise to block the python side on completion of each step,\n",
              "// then passes the result of the previous step as the input to the next step.\n",
              "function _uploadFilesContinue(outputId) {\n",
              "  const outputElement = document.getElementById(outputId);\n",
              "  const steps = outputElement.steps;\n",
              "\n",
              "  const next = steps.next(outputElement.lastPromiseValue);\n",
              "  return Promise.resolve(next.value.promise).then((value) => {\n",
              "    // Cache the last promise value to make it available to the next\n",
              "    // step of the generator.\n",
              "    outputElement.lastPromiseValue = value;\n",
              "    return next.value.response;\n",
              "  });\n",
              "}\n",
              "\n",
              "/**\n",
              " * Generator function which is called between each async step of the upload\n",
              " * process.\n",
              " * @param {string} inputId Element ID of the input file picker element.\n",
              " * @param {string} outputId Element ID of the output display.\n",
              " * @return {!Iterable<!Object>} Iterable of next steps.\n",
              " */\n",
              "function* uploadFilesStep(inputId, outputId) {\n",
              "  const inputElement = document.getElementById(inputId);\n",
              "  inputElement.disabled = false;\n",
              "\n",
              "  const outputElement = document.getElementById(outputId);\n",
              "  outputElement.innerHTML = '';\n",
              "\n",
              "  const pickedPromise = new Promise((resolve) => {\n",
              "    inputElement.addEventListener('change', (e) => {\n",
              "      resolve(e.target.files);\n",
              "    });\n",
              "  });\n",
              "\n",
              "  const cancel = document.createElement('button');\n",
              "  inputElement.parentElement.appendChild(cancel);\n",
              "  cancel.textContent = 'Cancel upload';\n",
              "  const cancelPromise = new Promise((resolve) => {\n",
              "    cancel.onclick = () => {\n",
              "      resolve(null);\n",
              "    };\n",
              "  });\n",
              "\n",
              "  // Wait for the user to pick the files.\n",
              "  const files = yield {\n",
              "    promise: Promise.race([pickedPromise, cancelPromise]),\n",
              "    response: {\n",
              "      action: 'starting',\n",
              "    }\n",
              "  };\n",
              "\n",
              "  cancel.remove();\n",
              "\n",
              "  // Disable the input element since further picks are not allowed.\n",
              "  inputElement.disabled = true;\n",
              "\n",
              "  if (!files) {\n",
              "    return {\n",
              "      response: {\n",
              "        action: 'complete',\n",
              "      }\n",
              "    };\n",
              "  }\n",
              "\n",
              "  for (const file of files) {\n",
              "    const li = document.createElement('li');\n",
              "    li.append(span(file.name, {fontWeight: 'bold'}));\n",
              "    li.append(span(\n",
              "        `(${file.type || 'n/a'}) - ${file.size} bytes, ` +\n",
              "        `last modified: ${\n",
              "            file.lastModifiedDate ? file.lastModifiedDate.toLocaleDateString() :\n",
              "                                    'n/a'} - `));\n",
              "    const percent = span('0% done');\n",
              "    li.appendChild(percent);\n",
              "\n",
              "    outputElement.appendChild(li);\n",
              "\n",
              "    const fileDataPromise = new Promise((resolve) => {\n",
              "      const reader = new FileReader();\n",
              "      reader.onload = (e) => {\n",
              "        resolve(e.target.result);\n",
              "      };\n",
              "      reader.readAsArrayBuffer(file);\n",
              "    });\n",
              "    // Wait for the data to be ready.\n",
              "    let fileData = yield {\n",
              "      promise: fileDataPromise,\n",
              "      response: {\n",
              "        action: 'continue',\n",
              "      }\n",
              "    };\n",
              "\n",
              "    // Use a chunked sending to avoid message size limits. See b/62115660.\n",
              "    let position = 0;\n",
              "    do {\n",
              "      const length = Math.min(fileData.byteLength - position, MAX_PAYLOAD_SIZE);\n",
              "      const chunk = new Uint8Array(fileData, position, length);\n",
              "      position += length;\n",
              "\n",
              "      const base64 = btoa(String.fromCharCode.apply(null, chunk));\n",
              "      yield {\n",
              "        response: {\n",
              "          action: 'append',\n",
              "          file: file.name,\n",
              "          data: base64,\n",
              "        },\n",
              "      };\n",
              "\n",
              "      let percentDone = fileData.byteLength === 0 ?\n",
              "          100 :\n",
              "          Math.round((position / fileData.byteLength) * 100);\n",
              "      percent.textContent = `${percentDone}% done`;\n",
              "\n",
              "    } while (position < fileData.byteLength);\n",
              "  }\n",
              "\n",
              "  // All done.\n",
              "  yield {\n",
              "    response: {\n",
              "      action: 'complete',\n",
              "    }\n",
              "  };\n",
              "}\n",
              "\n",
              "scope.google = scope.google || {};\n",
              "scope.google.colab = scope.google.colab || {};\n",
              "scope.google.colab._files = {\n",
              "  _uploadFiles,\n",
              "  _uploadFilesContinue,\n",
              "};\n",
              "})(self);\n",
              "</script> "
            ]
          },
          "metadata": {}
        },
        {
          "output_type": "stream",
          "name": "stdout",
          "text": [
            "Saving story.txt to story.txt\n"
          ]
        }
      ],
      "source": [
        "from google.colab import files\n",
        "uploaded = files.upload()"
      ]
    },
    {
      "cell_type": "markdown",
      "metadata": {
        "id": "fbjozSCncMnm"
      },
      "source": [
        "open a file and store it into list,convert list to string.\n",
        "Replace unnecessary symbols with spaces.\n",
        "To remove unnecessary spaces in my data for this split text and store in list.\n",
        "Convert list to string."
      ]
    },
    {
      "cell_type": "code",
      "execution_count": 4,
      "metadata": {
        "colab": {
          "base_uri": "https://localhost:8080/",
          "height": 87
        },
        "id": "cU5CHIFF-2VH",
        "outputId": "91bc1e6c-0768-42f7-89e6-d9cb883bf56a"
      },
      "outputs": [
        {
          "output_type": "execute_result",
          "data": {
            "text/plain": [
              "'The Project Gutenberg eBook of Women in Love, by D. H. Lawrence This eBook is for the use of anyone anywhere in the United States and most other parts of the world at no cost and with almost no restrictions whatsoever. You may copy it, give it away or re-use it under the terms of the Project Gutenberg License included with this eBook or online at www.gutenberg.org. If you are not located in the United States, you will have to check the laws of the country where you are located before using this '"
            ],
            "application/vnd.google.colaboratory.intrinsic+json": {
              "type": "string"
            }
          },
          "metadata": {},
          "execution_count": 4
        }
      ],
      "source": [
        "file = open(\"story.txt\", \"r\", encoding = \"utf8\")\n",
        "\n",
        "# store file in list\n",
        "lines = []\n",
        "for i in file:\n",
        "    lines.append(i)\n",
        "\n",
        "# Convert list to string\n",
        "data = \"\"\n",
        "for i in lines:\n",
        "  data = ' '. join(lines)\n",
        "\n",
        "#replace unnecessary stuff with space\n",
        "data = data.replace('\\n', '').replace('\\r', '').replace('\\ufeff', '').replace('“','').replace('”','')  #new line, carriage return, unicode character --> replace by space\n",
        "\n",
        "#remove unnecessary spaces\n",
        "data = data.split()\n",
        "data = ' '.join(data)\n",
        "data[:500]"
      ]
    },
    {
      "cell_type": "code",
      "execution_count": 5,
      "metadata": {
        "colab": {
          "base_uri": "https://localhost:8080/"
        },
        "id": "txPw3CofAcIO",
        "outputId": "b3d5c0e2-c6fb-4d2d-d7c0-1fbda094fc5b"
      },
      "outputs": [
        {
          "output_type": "execute_result",
          "data": {
            "text/plain": [
              "427915"
            ]
          },
          "metadata": {},
          "execution_count": 5
        }
      ],
      "source": [
        "len(data)"
      ]
    },
    {
      "cell_type": "code",
      "execution_count": 6,
      "metadata": {
        "colab": {
          "base_uri": "https://localhost:8080/"
        },
        "id": "V9nQv8XMAuxl",
        "outputId": "bc20dd71-a410-4373-c8c0-ab1de088e19d"
      },
      "outputs": [
        {
          "output_type": "execute_result",
          "data": {
            "text/plain": [
              "[1,\n",
              " 1566,\n",
              " 1567,\n",
              " 1171,\n",
              " 4,\n",
              " 234,\n",
              " 9,\n",
              " 102,\n",
              " 65,\n",
              " 1568,\n",
              " 1172,\n",
              " 1932,\n",
              " 44,\n",
              " 1171,\n",
              " 18,\n",
              " 25,\n",
              " 1,\n",
              " 447,\n",
              " 4,\n",
              " 2546]"
            ]
          },
          "metadata": {},
          "execution_count": 6
        }
      ],
      "source": [
        "tokenizer = Tokenizer()\n",
        "tokenizer.fit_on_texts([data])\n",
        "\n",
        "# saving the tokenizer for predict function\n",
        "pickle.dump(tokenizer, open('token.pkl', 'wb'))\n",
        "\n",
        "sequence_data = tokenizer.texts_to_sequences([data])[0]\n",
        "sequence_data[:20]"
      ]
    },
    {
      "cell_type": "code",
      "execution_count": 7,
      "metadata": {
        "colab": {
          "base_uri": "https://localhost:8080/"
        },
        "id": "ToxQqMm8BRf0",
        "outputId": "cbb14f44-cf6b-4771-95ec-3cafb431196f"
      },
      "outputs": [
        {
          "output_type": "execute_result",
          "data": {
            "text/plain": [
              "76923"
            ]
          },
          "metadata": {},
          "execution_count": 7
        }
      ],
      "source": [
        "len(sequence_data)"
      ]
    },
    {
      "cell_type": "code",
      "execution_count": 8,
      "metadata": {
        "colab": {
          "base_uri": "https://localhost:8080/"
        },
        "id": "Lpyx1OTFBVQu",
        "outputId": "4db2a3f8-4a8a-4586-9120-092b6e6a981e"
      },
      "outputs": [
        {
          "output_type": "stream",
          "name": "stdout",
          "text": [
            "7659\n"
          ]
        }
      ],
      "source": [
        "vocab_size = len(tokenizer.word_index) + 1\n",
        "print(vocab_size)"
      ]
    },
    {
      "cell_type": "code",
      "execution_count": 9,
      "metadata": {
        "colab": {
          "base_uri": "https://localhost:8080/"
        },
        "id": "C66AkN4EBlfT",
        "outputId": "8cb3fef1-d5ac-4098-eeb1-89eb98c9d63c"
      },
      "outputs": [
        {
          "output_type": "stream",
          "name": "stdout",
          "text": [
            "The Length of sequences are:  76920\n"
          ]
        },
        {
          "output_type": "execute_result",
          "data": {
            "text/plain": [
              "array([[   1, 1566, 1567, 1171],\n",
              "       [1566, 1567, 1171,    4],\n",
              "       [1567, 1171,    4,  234],\n",
              "       [1171,    4,  234,    9],\n",
              "       [   4,  234,    9,  102],\n",
              "       [ 234,    9,  102,   65],\n",
              "       [   9,  102,   65, 1568],\n",
              "       [ 102,   65, 1568, 1172],\n",
              "       [  65, 1568, 1172, 1932],\n",
              "       [1568, 1172, 1932,   44]])"
            ]
          },
          "metadata": {},
          "execution_count": 9
        }
      ],
      "source": [
        "sequences = []\n",
        "\n",
        "for i in range(3, len(sequence_data)):\n",
        "    words = sequence_data[i-3:i+1]\n",
        "    sequences.append(words)\n",
        "\n",
        "print(\"The Length of sequences are: \", len(sequences))\n",
        "sequences = np.array(sequences)\n",
        "sequences[:10]"
      ]
    },
    {
      "cell_type": "code",
      "execution_count": 10,
      "metadata": {
        "id": "nSMhU3iyB8DS"
      },
      "outputs": [],
      "source": [
        "X = []\n",
        "y = []\n",
        "\n",
        "for i in sequences:\n",
        "    X.append(i[0:3])\n",
        "    y.append(i[3])\n",
        "\n",
        "X = np.array(X)\n",
        "y = np.array(y)"
      ]
    },
    {
      "cell_type": "code",
      "execution_count": 11,
      "metadata": {
        "colab": {
          "base_uri": "https://localhost:8080/"
        },
        "id": "bOhjCIyFCBhk",
        "outputId": "5fabf250-1a50-416e-800f-0466993ca061"
      },
      "outputs": [
        {
          "output_type": "stream",
          "name": "stdout",
          "text": [
            "Data:  [[   1 1566 1567]\n",
            " [1566 1567 1171]\n",
            " [1567 1171    4]\n",
            " [1171    4  234]\n",
            " [   4  234    9]\n",
            " [ 234    9  102]\n",
            " [   9  102   65]\n",
            " [ 102   65 1568]\n",
            " [  65 1568 1172]\n",
            " [1568 1172 1932]]\n",
            "Response:  [1171    4  234    9  102   65 1568 1172 1932   44]\n"
          ]
        }
      ],
      "source": [
        "print(\"Data: \", X[:10])\n",
        "print(\"Response: \", y[:10])\n"
      ]
    },
    {
      "cell_type": "code",
      "execution_count": 12,
      "metadata": {
        "colab": {
          "base_uri": "https://localhost:8080/"
        },
        "id": "6Dck15nhCMwE",
        "outputId": "3c14383f-905f-419d-b8a3-4ddeabdd46e2"
      },
      "outputs": [
        {
          "output_type": "execute_result",
          "data": {
            "text/plain": [
              "array([[0., 0., 0., ..., 0., 0., 0.],\n",
              "       [0., 0., 0., ..., 0., 0., 0.],\n",
              "       [0., 0., 0., ..., 0., 0., 0.],\n",
              "       [0., 0., 0., ..., 0., 0., 0.],\n",
              "       [0., 0., 0., ..., 0., 0., 0.]], dtype=float32)"
            ]
          },
          "metadata": {},
          "execution_count": 12
        }
      ],
      "source": [
        "y = to_categorical(y, num_classes=vocab_size)\n",
        "y[:5]"
      ]
    },
    {
      "cell_type": "code",
      "execution_count": 13,
      "metadata": {
        "id": "-dcDHD77CXy6"
      },
      "outputs": [],
      "source": [
        "model = Sequential()\n",
        "model.add(Embedding(vocab_size, 10, input_length=3))\n",
        "model.add(LSTM(1000, return_sequences=True))\n",
        "model.add(LSTM(1000))\n",
        "model.add(Dense(1000, activation=\"relu\"))\n",
        "model.add(Dense(vocab_size, activation=\"softmax\"))\n"
      ]
    },
    {
      "cell_type": "code",
      "execution_count": 14,
      "metadata": {
        "colab": {
          "base_uri": "https://localhost:8080/"
        },
        "id": "FONRs0QMCpV7",
        "outputId": "a0793807-b384-4916-a237-7024e562f028"
      },
      "outputs": [
        {
          "output_type": "stream",
          "name": "stdout",
          "text": [
            "Model: \"sequential\"\n",
            "_________________________________________________________________\n",
            " Layer (type)                Output Shape              Param #   \n",
            "=================================================================\n",
            " embedding (Embedding)       (None, 3, 10)             76590     \n",
            "                                                                 \n",
            " lstm (LSTM)                 (None, 3, 1000)           4044000   \n",
            "                                                                 \n",
            " lstm_1 (LSTM)               (None, 1000)              8004000   \n",
            "                                                                 \n",
            " dense (Dense)               (None, 1000)              1001000   \n",
            "                                                                 \n",
            " dense_1 (Dense)             (None, 7659)              7666659   \n",
            "                                                                 \n",
            "=================================================================\n",
            "Total params: 20,792,249\n",
            "Trainable params: 20,792,249\n",
            "Non-trainable params: 0\n",
            "_________________________________________________________________\n"
          ]
        }
      ],
      "source": [
        "model.summary()"
      ]
    },
    {
      "cell_type": "code",
      "execution_count": 15,
      "metadata": {
        "colab": {
          "base_uri": "https://localhost:8080/",
          "height": 564
        },
        "id": "4xE7qgwAC3BJ",
        "outputId": "4a238a69-e513-4d55-bea5-0a2148885710"
      },
      "outputs": [
        {
          "output_type": "execute_result",
          "data": {
            "image/png": "[encoded data removed]",
            "text/plain": [
              "<IPython.core.display.Image object>"
            ]
          },
          "metadata": {},
          "execution_count": 15
        }
      ],
      "source": [
        "from tensorflow import keras\n",
        "from keras.utils.vis_utils import plot_model\n",
        "\n",
        "keras.utils.plot_model(model, to_file='plot.png', show_layer_names=True)"
      ]
    },
    {
      "cell_type": "code",
      "execution_count": 16,
      "metadata": {
        "colab": {
          "base_uri": "https://localhost:8080/"
        },
        "id": "wDovc7BkD1My",
        "outputId": "5f7ed05f-d84a-4b51-de8d-a21ba94e52d2"
      },
      "outputs": [
        {
          "output_type": "stream",
          "name": "stdout",
          "text": [
            "Epoch 1/70\n",
            "1202/1202 [==============================] - ETA: 0s - loss: 6.5877\n",
            "Epoch 1: loss improved from inf to 6.58766, saving model to next_words.h5\n",
            "1202/1202 [==============================] - 35s 21ms/step - loss: 6.5877\n",
            "Epoch 2/70\n",
            "1201/1202 [============================>.] - ETA: 0s - loss: 6.0465\n",
            "Epoch 2: loss improved from 6.58766 to 6.04618, saving model to next_words.h5\n",
            "1202/1202 [==============================] - 18s 15ms/step - loss: 6.0462\n",
            "Epoch 3/70\n",
            "1200/1202 [============================>.] - ETA: 0s - loss: 5.6989\n",
            "Epoch 3: loss improved from 6.04618 to 5.69925, saving model to next_words.h5\n",
            "1202/1202 [==============================] - 19s 16ms/step - loss: 5.6993\n",
            "Epoch 4/70\n",
            "1201/1202 [============================>.] - ETA: 0s - loss: 5.4203\n",
            "Epoch 4: loss improved from 5.69925 to 5.42023, saving model to next_words.h5\n",
            "1202/1202 [==============================] - 18s 15ms/step - loss: 5.4202\n",
            "Epoch 5/70\n",
            "1201/1202 [============================>.] - ETA: 0s - loss: 5.1754\n",
            "Epoch 5: loss improved from 5.42023 to 5.17525, saving model to next_words.h5\n",
            "1202/1202 [==============================] - 18s 15ms/step - loss: 5.1752\n",
            "Epoch 6/70\n",
            "1202/1202 [==============================] - ETA: 0s - loss: 4.9483\n",
            "Epoch 6: loss improved from 5.17525 to 4.94828, saving model to next_words.h5\n",
            "1202/1202 [==============================] - 18s 15ms/step - loss: 4.9483\n",
            "Epoch 7/70\n",
            "1200/1202 [============================>.] - ETA: 0s - loss: 4.7195\n",
            "Epoch 7: loss improved from 4.94828 to 4.72017, saving model to next_words.h5\n",
            "1202/1202 [==============================] - 18s 15ms/step - loss: 4.7202\n",
            "Epoch 8/70\n",
            "1202/1202 [==============================] - ETA: 0s - loss: 4.4784\n",
            "Epoch 8: loss improved from 4.72017 to 4.47842, saving model to next_words.h5\n",
            "1202/1202 [==============================] - 18s 15ms/step - loss: 4.4784\n",
            "Epoch 9/70\n",
            "1200/1202 [============================>.] - ETA: 0s - loss: 4.2133\n",
            "Epoch 9: loss improved from 4.47842 to 4.21321, saving model to next_words.h5\n",
            "1202/1202 [==============================] - 18s 15ms/step - loss: 4.2132\n",
            "Epoch 10/70\n",
            "1200/1202 [============================>.] - ETA: 0s - loss: 3.9387\n",
            "Epoch 10: loss improved from 4.21321 to 3.93953, saving model to next_words.h5\n",
            "1202/1202 [==============================] - 19s 16ms/step - loss: 3.9395\n",
            "Epoch 11/70\n",
            "1200/1202 [============================>.] - ETA: 0s - loss: 3.6586\n",
            "Epoch 11: loss improved from 3.93953 to 3.65871, saving model to next_words.h5\n",
            "1202/1202 [==============================] - 19s 16ms/step - loss: 3.6587\n",
            "Epoch 12/70\n",
            "1202/1202 [==============================] - ETA: 0s - loss: 3.3901\n",
            "Epoch 12: loss improved from 3.65871 to 3.39007, saving model to next_words.h5\n",
            "1202/1202 [==============================] - 18s 15ms/step - loss: 3.3901\n",
            "Epoch 13/70\n",
            "1199/1202 [============================>.] - ETA: 0s - loss: 3.1243\n",
            "Epoch 13: loss improved from 3.39007 to 3.12530, saving model to next_words.h5\n",
            "1202/1202 [==============================] - 19s 15ms/step - loss: 3.1253\n",
            "Epoch 14/70\n",
            "1202/1202 [==============================] - ETA: 0s - loss: 2.8677\n",
            "Epoch 14: loss improved from 3.12530 to 2.86766, saving model to next_words.h5\n",
            "1202/1202 [==============================] - 19s 16ms/step - loss: 2.8677\n",
            "Epoch 15/70\n",
            "1199/1202 [============================>.] - ETA: 0s - loss: 2.6161\n",
            "Epoch 15: loss improved from 2.86766 to 2.61629, saving model to next_words.h5\n",
            "1202/1202 [==============================] - 19s 15ms/step - loss: 2.6163\n",
            "Epoch 16/70\n",
            "1202/1202 [==============================] - ETA: 0s - loss: 2.3708\n",
            "Epoch 16: loss improved from 2.61629 to 2.37082, saving model to next_words.h5\n",
            "1202/1202 [==============================] - 19s 16ms/step - loss: 2.3708\n",
            "Epoch 17/70\n",
            "1199/1202 [============================>.] - ETA: 0s - loss: 2.1269\n",
            "Epoch 17: loss improved from 2.37082 to 2.12694, saving model to next_words.h5\n",
            "1202/1202 [==============================] - 19s 16ms/step - loss: 2.1269\n",
            "Epoch 18/70\n",
            "1201/1202 [============================>.] - ETA: 0s - loss: 1.8876\n",
            "Epoch 18: loss improved from 2.12694 to 1.88763, saving model to next_words.h5\n",
            "1202/1202 [==============================] - 19s 15ms/step - loss: 1.8876\n",
            "Epoch 19/70\n",
            "1200/1202 [============================>.] - ETA: 0s - loss: 1.6587\n",
            "Epoch 19: loss improved from 1.88763 to 1.65884, saving model to next_words.h5\n",
            "1202/1202 [==============================] - 19s 15ms/step - loss: 1.6588\n",
            "Epoch 20/70\n",
            "1199/1202 [============================>.] - ETA: 0s - loss: 1.4477\n",
            "Epoch 20: loss improved from 1.65884 to 1.44815, saving model to next_words.h5\n",
            "1202/1202 [==============================] - 18s 15ms/step - loss: 1.4482\n",
            "Epoch 21/70\n",
            "1199/1202 [============================>.] - ETA: 0s - loss: 1.2598\n",
            "Epoch 21: loss improved from 1.44815 to 1.26035, saving model to next_words.h5\n",
            "1202/1202 [==============================] - 18s 15ms/step - loss: 1.2603\n",
            "Epoch 22/70\n",
            "1201/1202 [============================>.] - ETA: 0s - loss: 1.0972\n",
            "Epoch 22: loss improved from 1.26035 to 1.09744, saving model to next_words.h5\n",
            "1202/1202 [==============================] - 19s 16ms/step - loss: 1.0974\n",
            "Epoch 23/70\n",
            "1202/1202 [==============================] - ETA: 0s - loss: 0.9720\n",
            "Epoch 23: loss improved from 1.09744 to 0.97197, saving model to next_words.h5\n",
            "1202/1202 [==============================] - 19s 16ms/step - loss: 0.9720\n",
            "Epoch 24/70\n",
            "1202/1202 [==============================] - ETA: 0s - loss: 0.8724\n",
            "Epoch 24: loss improved from 0.97197 to 0.87237, saving model to next_words.h5\n",
            "1202/1202 [==============================] - 19s 15ms/step - loss: 0.8724\n",
            "Epoch 25/70\n",
            "1201/1202 [============================>.] - ETA: 0s - loss: 0.7923\n",
            "Epoch 25: loss improved from 0.87237 to 0.79207, saving model to next_words.h5\n",
            "1202/1202 [==============================] - 18s 15ms/step - loss: 0.7921\n",
            "Epoch 26/70\n",
            "1199/1202 [============================>.] - ETA: 0s - loss: 0.7276\n",
            "Epoch 26: loss improved from 0.79207 to 0.72798, saving model to next_words.h5\n",
            "1202/1202 [==============================] - 19s 15ms/step - loss: 0.7280\n",
            "Epoch 27/70\n",
            "1200/1202 [============================>.] - ETA: 0s - loss: 0.6744\n",
            "Epoch 27: loss improved from 0.72798 to 0.67456, saving model to next_words.h5\n",
            "1202/1202 [==============================] - 19s 15ms/step - loss: 0.6746\n",
            "Epoch 28/70\n",
            "1201/1202 [============================>.] - ETA: 0s - loss: 0.6321\n",
            "Epoch 28: loss improved from 0.67456 to 0.63212, saving model to next_words.h5\n",
            "1202/1202 [==============================] - 19s 16ms/step - loss: 0.6321\n",
            "Epoch 29/70\n",
            "1202/1202 [==============================] - ETA: 0s - loss: 0.6019\n",
            "Epoch 29: loss improved from 0.63212 to 0.60185, saving model to next_words.h5\n",
            "1202/1202 [==============================] - 18s 15ms/step - loss: 0.6019\n",
            "Epoch 30/70\n",
            "1201/1202 [============================>.] - ETA: 0s - loss: 0.5749\n",
            "Epoch 30: loss improved from 0.60185 to 0.57481, saving model to next_words.h5\n",
            "1202/1202 [==============================] - 19s 16ms/step - loss: 0.5748\n",
            "Epoch 31/70\n",
            "1202/1202 [==============================] - ETA: 0s - loss: 0.5507\n",
            "Epoch 31: loss improved from 0.57481 to 0.55075, saving model to next_words.h5\n",
            "1202/1202 [==============================] - 19s 15ms/step - loss: 0.5507\n",
            "Epoch 32/70\n",
            "1199/1202 [============================>.] - ETA: 0s - loss: 0.5372\n",
            "Epoch 32: loss improved from 0.55075 to 0.53720, saving model to next_words.h5\n",
            "1202/1202 [==============================] - 19s 15ms/step - loss: 0.5372\n",
            "Epoch 33/70\n",
            "1202/1202 [==============================] - ETA: 0s - loss: 0.5149\n",
            "Epoch 33: loss improved from 0.53720 to 0.51491, saving model to next_words.h5\n",
            "1202/1202 [==============================] - 18s 15ms/step - loss: 0.5149\n",
            "Epoch 34/70\n",
            "1201/1202 [============================>.] - ETA: 0s - loss: 0.4993\n",
            "Epoch 34: loss improved from 0.51491 to 0.49934, saving model to next_words.h5\n",
            "1202/1202 [==============================] - 19s 15ms/step - loss: 0.4993\n",
            "Epoch 35/70\n",
            "1202/1202 [==============================] - ETA: 0s - loss: 0.4863\n",
            "Epoch 35: loss improved from 0.49934 to 0.48627, saving model to next_words.h5\n",
            "1202/1202 [==============================] - 18s 15ms/step - loss: 0.4863\n",
            "Epoch 36/70\n",
            "1199/1202 [============================>.] - ETA: 0s - loss: 0.4695\n",
            "Epoch 36: loss improved from 0.48627 to 0.46958, saving model to next_words.h5\n",
            "1202/1202 [==============================] - 19s 15ms/step - loss: 0.4696\n",
            "Epoch 37/70\n",
            "1202/1202 [==============================] - ETA: 0s - loss: 0.4646\n",
            "Epoch 37: loss improved from 0.46958 to 0.46457, saving model to next_words.h5\n",
            "1202/1202 [==============================] - 18s 15ms/step - loss: 0.4646\n",
            "Epoch 38/70\n",
            "1201/1202 [============================>.] - ETA: 0s - loss: 0.4525\n",
            "Epoch 38: loss improved from 0.46457 to 0.45241, saving model to next_words.h5\n",
            "1202/1202 [==============================] - 19s 15ms/step - loss: 0.4524\n",
            "Epoch 39/70\n",
            "1199/1202 [============================>.] - ETA: 0s - loss: 0.4393\n",
            "Epoch 39: loss improved from 0.45241 to 0.43928, saving model to next_words.h5\n",
            "1202/1202 [==============================] - 18s 15ms/step - loss: 0.4393\n",
            "Epoch 40/70\n",
            "1202/1202 [==============================] - ETA: 0s - loss: 0.4376\n",
            "Epoch 40: loss improved from 0.43928 to 0.43762, saving model to next_words.h5\n",
            "1202/1202 [==============================] - 19s 15ms/step - loss: 0.4376\n",
            "Epoch 41/70\n",
            "1199/1202 [============================>.] - ETA: 0s - loss: 0.4263\n",
            "Epoch 41: loss improved from 0.43762 to 0.42635, saving model to next_words.h5\n",
            "1202/1202 [==============================] - 18s 15ms/step - loss: 0.4264\n",
            "Epoch 42/70\n",
            "1200/1202 [============================>.] - ETA: 0s - loss: 0.4157\n",
            "Epoch 42: loss improved from 0.42635 to 0.41582, saving model to next_words.h5\n",
            "1202/1202 [==============================] - 19s 15ms/step - loss: 0.4158\n",
            "Epoch 43/70\n",
            "1201/1202 [============================>.] - ETA: 0s - loss: 0.4118\n",
            "Epoch 43: loss improved from 0.41582 to 0.41202, saving model to next_words.h5\n",
            "1202/1202 [==============================] - 19s 15ms/step - loss: 0.4120\n",
            "Epoch 44/70\n",
            "1202/1202 [==============================] - ETA: 0s - loss: 0.4074\n",
            "Epoch 44: loss improved from 0.41202 to 0.40738, saving model to next_words.h5\n",
            "1202/1202 [==============================] - 19s 15ms/step - loss: 0.4074\n",
            "Epoch 45/70\n",
            "1201/1202 [============================>.] - ETA: 0s - loss: 0.4004\n",
            "Epoch 45: loss improved from 0.40738 to 0.40048, saving model to next_words.h5\n",
            "1202/1202 [==============================] - 19s 15ms/step - loss: 0.4005\n",
            "Epoch 46/70\n",
            "1200/1202 [============================>.] - ETA: 0s - loss: 0.3902\n",
            "Epoch 46: loss improved from 0.40048 to 0.39051, saving model to next_words.h5\n",
            "1202/1202 [==============================] - 19s 15ms/step - loss: 0.3905\n",
            "Epoch 47/70\n",
            "1202/1202 [==============================] - ETA: 0s - loss: 0.3882\n",
            "Epoch 47: loss improved from 0.39051 to 0.38821, saving model to next_words.h5\n",
            "1202/1202 [==============================] - 18s 15ms/step - loss: 0.3882\n",
            "Epoch 48/70\n",
            "1199/1202 [============================>.] - ETA: 0s - loss: 0.3844\n",
            "Epoch 48: loss improved from 0.38821 to 0.38453, saving model to next_words.h5\n",
            "1202/1202 [==============================] - 19s 16ms/step - loss: 0.3845\n",
            "Epoch 49/70\n",
            "1202/1202 [==============================] - ETA: 0s - loss: 0.3782\n",
            "Epoch 49: loss improved from 0.38453 to 0.37821, saving model to next_words.h5\n",
            "1202/1202 [==============================] - 18s 15ms/step - loss: 0.3782\n",
            "Epoch 50/70\n",
            "1199/1202 [============================>.] - ETA: 0s - loss: 0.3734\n",
            "Epoch 50: loss improved from 0.37821 to 0.37362, saving model to next_words.h5\n",
            "1202/1202 [==============================] - 18s 15ms/step - loss: 0.3736\n",
            "Epoch 51/70\n",
            "1200/1202 [============================>.] - ETA: 0s - loss: 0.3681\n",
            "Epoch 51: loss improved from 0.37362 to 0.36829, saving model to next_words.h5\n",
            "1202/1202 [==============================] - 18s 15ms/step - loss: 0.3683\n",
            "Epoch 52/70\n",
            "1202/1202 [==============================] - ETA: 0s - loss: 0.3661\n",
            "Epoch 52: loss improved from 0.36829 to 0.36613, saving model to next_words.h5\n",
            "1202/1202 [==============================] - 19s 16ms/step - loss: 0.3661\n",
            "Epoch 53/70\n",
            "1199/1202 [============================>.] - ETA: 0s - loss: 0.3626\n",
            "Epoch 53: loss improved from 0.36613 to 0.36287, saving model to next_words.h5\n",
            "1202/1202 [==============================] - 19s 16ms/step - loss: 0.3629\n",
            "Epoch 54/70\n",
            "1199/1202 [============================>.] - ETA: 0s - loss: 0.3582\n",
            "Epoch 54: loss improved from 0.36287 to 0.35828, saving model to next_words.h5\n",
            "1202/1202 [==============================] - 19s 16ms/step - loss: 0.3583\n",
            "Epoch 55/70\n",
            "1200/1202 [============================>.] - ETA: 0s - loss: 0.3520\n",
            "Epoch 55: loss improved from 0.35828 to 0.35204, saving model to next_words.h5\n",
            "1202/1202 [==============================] - 19s 15ms/step - loss: 0.3520\n",
            "Epoch 56/70\n",
            "1200/1202 [============================>.] - ETA: 0s - loss: 0.3535\n",
            "Epoch 56: loss did not improve from 0.35204\n",
            "1202/1202 [==============================] - 18s 15ms/step - loss: 0.3537\n",
            "Epoch 57/70\n",
            "1202/1202 [==============================] - ETA: 0s - loss: 0.3471\n",
            "Epoch 57: loss improved from 0.35204 to 0.34708, saving model to next_words.h5\n",
            "1202/1202 [==============================] - 19s 16ms/step - loss: 0.3471\n",
            "Epoch 58/70\n",
            "1201/1202 [============================>.] - ETA: 0s - loss: 0.3433\n",
            "Epoch 58: loss improved from 0.34708 to 0.34339, saving model to next_words.h5\n",
            "1202/1202 [==============================] - 19s 16ms/step - loss: 0.3434\n",
            "Epoch 59/70\n",
            "1199/1202 [============================>.] - ETA: 0s - loss: 0.3491\n",
            "Epoch 59: loss did not improve from 0.34339\n",
            "1202/1202 [==============================] - 18s 15ms/step - loss: 0.3491\n",
            "Epoch 60/70\n",
            "1201/1202 [============================>.] - ETA: 0s - loss: 0.3420\n",
            "Epoch 60: loss improved from 0.34339 to 0.34199, saving model to next_words.h5\n",
            "1202/1202 [==============================] - 19s 16ms/step - loss: 0.3420\n",
            "Epoch 61/70\n",
            "1201/1202 [============================>.] - ETA: 0s - loss: 0.3318\n",
            "Epoch 61: loss improved from 0.34199 to 0.33175, saving model to next_words.h5\n",
            "1202/1202 [==============================] - 19s 16ms/step - loss: 0.3317\n",
            "Epoch 62/70\n",
            "1202/1202 [==============================] - ETA: 0s - loss: 0.3306\n",
            "Epoch 62: loss improved from 0.33175 to 0.33063, saving model to next_words.h5\n",
            "1202/1202 [==============================] - 19s 16ms/step - loss: 0.3306\n",
            "Epoch 63/70\n",
            "1202/1202 [==============================] - ETA: 0s - loss: 0.3356\n",
            "Epoch 63: loss did not improve from 0.33063\n",
            "1202/1202 [==============================] - 18s 15ms/step - loss: 0.3356\n",
            "Epoch 64/70\n",
            "1201/1202 [============================>.] - ETA: 0s - loss: 0.3301\n",
            "Epoch 64: loss improved from 0.33063 to 0.33029, saving model to next_words.h5\n",
            "1202/1202 [==============================] - 19s 16ms/step - loss: 0.3303\n",
            "Epoch 65/70\n",
            "1202/1202 [==============================] - ETA: 0s - loss: 0.3249\n",
            "Epoch 65: loss improved from 0.33029 to 0.32493, saving model to next_words.h5\n",
            "1202/1202 [==============================] - 19s 16ms/step - loss: 0.3249\n",
            "Epoch 66/70\n",
            "1202/1202 [==============================] - ETA: 0s - loss: 0.3267\n",
            "Epoch 66: loss did not improve from 0.32493\n",
            "1202/1202 [==============================] - 18s 15ms/step - loss: 0.3267\n",
            "Epoch 67/70\n",
            "1202/1202 [==============================] - ETA: 0s - loss: 0.3213\n",
            "Epoch 67: loss improved from 0.32493 to 0.32127, saving model to next_words.h5\n",
            "1202/1202 [==============================] - 19s 16ms/step - loss: 0.3213\n",
            "Epoch 68/70\n",
            "1199/1202 [============================>.] - ETA: 0s - loss: 0.3201\n",
            "Epoch 68: loss improved from 0.32127 to 0.32013, saving model to next_words.h5\n",
            "1202/1202 [==============================] - 19s 16ms/step - loss: 0.3201\n",
            "Epoch 69/70\n",
            "1202/1202 [==============================] - ETA: 0s - loss: 0.3207\n",
            "Epoch 69: loss did not improve from 0.32013\n",
            "1202/1202 [==============================] - 18s 15ms/step - loss: 0.3207\n",
            "Epoch 70/70\n",
            "1199/1202 [============================>.] - ETA: 0s - loss: 0.3147\n",
            "Epoch 70: loss improved from 0.32013 to 0.31468, saving model to next_words.h5\n",
            "1202/1202 [==============================] - 19s 16ms/step - loss: 0.3147\n"
          ]
        },
        {
          "output_type": "execute_result",
          "data": {
            "text/plain": [
              "<keras.callbacks.History at 0x7b119682cfa0>"
            ]
          },
          "metadata": {},
          "execution_count": 16
        }
      ],
      "source": [
        "from tensorflow.keras.callbacks import ModelCheckpoint\n",
        "\n",
        "checkpoint = ModelCheckpoint(\"next_words.h5\", monitor='loss', verbose=1, save_best_only=True)\n",
        "model.compile(loss=\"categorical_crossentropy\", optimizer=Adam(learning_rate=0.001))\n",
        "model.fit(X, y, epochs=70, batch_size=64, callbacks=[checkpoint])\n"
      ]
    },
    {
      "cell_type": "code",
      "source": [
        "from tensorflow.keras.models import load_model\n",
        "import numpy as np\n",
        "import pickle\n",
        "\n",
        "# Load the model and tokenizer\n",
        "model = load_model('next_words.h5')\n",
        "tokenizer = pickle.load(open('token.pkl', 'rb'))\n",
        "\n",
        "def Predict_Next_Words(model, tokenizer, text):\n",
        "\n",
        "  sequence = tokenizer.texts_to_sequences([text])\n",
        "  sequence = np.array(sequence)\n",
        "  preds = np.argmax(model.predict(sequence))\n",
        "  predicted_word = \"\"\n",
        "\n",
        "  for key, value in tokenizer.word_index.items():\n",
        "      if value == preds:\n",
        "          predicted_word = key\n",
        "          break\n",
        "\n",
        "  print(predicted_word)\n",
        "  return predicted_word\n",
        "while(True):\n",
        "  text = input(\"Enter your line: \")\n",
        "\n",
        "  if text == \"0\":\n",
        "      print(\"Execution completed.....\")\n",
        "      break\n",
        "\n",
        "  else:\n",
        "      try:\n",
        "          text = text.split(\" \")\n",
        "          text = text[-3:]\n",
        "          print(text)\n",
        "\n",
        "          Predict_Next_Words(model, tokenizer, text)\n",
        "\n",
        "      except Exception as e:\n",
        "        print(\"Error occurred: \",e)\n",
        "        continue\n"
      ],
      "metadata": {
        "colab": {
          "base_uri": "https://localhost:8080/"
        },
        "id": "ylqbR_ygIVbW",
        "outputId": "c0d12855-1452-47ff-fa83-6c14e8ea0339"
      },
      "execution_count": null,
      "outputs": [
        {
          "output_type": "stream",
          "name": "stdout",
          "text": [
            "Enter your line: ironically, “it\n",
            "['ironically,', '“it']\n",
            "Error occurred:  in user code:\n",
            "\n",
            "    File \"/usr/local/lib/python3.10/dist-packages/keras/engine/training.py\", line 2169, in predict_function  *\n",
            "        return step_function(self, iterator)\n",
            "    File \"/usr/local/lib/python3.10/dist-packages/keras/engine/training.py\", line 2155, in step_function  **\n",
            "        outputs = model.distribute_strategy.run(run_step, args=(data,))\n",
            "    File \"/usr/local/lib/python3.10/dist-packages/keras/engine/training.py\", line 2143, in run_step  **\n",
            "        outputs = model.predict_step(data)\n",
            "    File \"/usr/local/lib/python3.10/dist-packages/keras/engine/training.py\", line 2111, in predict_step\n",
            "        return self(x, training=False)\n",
            "    File \"/usr/local/lib/python3.10/dist-packages/keras/utils/traceback_utils.py\", line 70, in error_handler\n",
            "        raise e.with_traceback(filtered_tb) from None\n",
            "    File \"/usr/local/lib/python3.10/dist-packages/keras/engine/input_spec.py\", line 298, in assert_input_compatibility\n",
            "        raise ValueError(\n",
            "\n",
            "    ValueError: Input 0 of layer \"sequential\" is incompatible with the layer: expected shape=(None, 3), found shape=(None, 0)\n",
            "\n",
            "Enter your line: shadow came over\n",
            "['shadow', 'came', 'over']\n",
            "1/1 [==============================] - 1s 648ms/step\n",
            "ursula’s\n",
            "Enter your line: conversation to a\n",
            "['conversation', 'to', 'a']\n",
            "1/1 [==============================] - 0s 20ms/step\n",
            "close\n",
            "Enter your line: and an awfully\n",
            "['and', 'an', 'awfully']\n",
            "1/1 [==============================] - 0s 20ms/step\n",
            "nice\n",
            "Enter your line: whilst Ursula stitched\n",
            "['whilst', 'Ursula', 'stitched']\n",
            "1/1 [==============================] - 0s 20ms/step\n",
            "and\n",
            "Enter your line: half sly smiling\n",
            "['half', 'sly', 'smiling']\n",
            "1/1 [==============================] - 0s 37ms/step\n",
            "half\n",
            "Enter your line: looked searchingly at\n",
            "['looked', 'searchingly', 'at']\n",
            "1/1 [==============================] - 0s 21ms/step\n",
            "ursula\n",
            "Enter your line: in a narrowed\n",
            "['in', 'a', 'narrowed']\n",
            "1/1 [==============================] - 0s 19ms/step\n",
            "voice\n",
            "Enter your line: texture and delicacy\n",
            "['texture', 'and', 'delicacy']\n",
            "1/1 [==============================] - 0s 22ms/step\n",
            "of\n",
            "Enter your line: slightly dazzled and\n",
            "['slightly', 'dazzled', 'and']\n",
            "1/1 [==============================] - 0s 21ms/step\n",
            "falsified\n",
            "Enter your line: But Ursula was\n",
            "['But', 'Ursula', 'was']\n",
            "1/1 [==============================] - 0s 22ms/step\n",
            "still\n",
            "Enter your line: She resented its\n",
            "['She', 'resented', 'its']\n",
            "1/1 [==============================] - 0s 21ms/step\n",
            "having\n",
            "Enter your line: feeling against the\n",
            "['feeling', 'against', 'the']\n",
            "1/1 [==============================] - 0s 28ms/step\n",
            "home\n",
            "Enter your line: Gudrun, new from\n",
            "['Gudrun,', 'new', 'from']\n",
            "1/1 [==============================] - 1s 633ms/step\n",
            "her\n",
            "Enter your line: main road, past\n",
            "['main', 'road,', 'past']\n",
            "1/1 [==============================] - 0s 20ms/step\n",
            "in\n",
            "Enter your line: like being mad\n",
            "['like', 'being', 'mad']\n",
            "1/1 [==============================] - 0s 26ms/step\n",
            "ursula\n",
            "Enter your line: replica of the real\n",
            "['of', 'the', 'real']\n",
            "1/1 [==============================] - 0s 20ms/step\n",
            "world\n",
            "Enter your line: sisters were crossing a black path\n",
            "['a', 'black', 'path']\n",
            "1/1 [==============================] - 0s 24ms/step\n",
            "through\n"
          ]
        }
      ]
    }
  ],
  "metadata": {
    "accelerator": "GPU",
    "colab": {
      "provenance": []
    },
    "kernelspec": {
      "display_name": "Python 3",
      "name": "python3"
    },
    "language_info": {
      "name": "python"
    }
  },
  "nbformat": 4,
  "nbformat_minor": 0
}